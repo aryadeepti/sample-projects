{
  "cells": [
    {
      "cell_type": "markdown",
      "metadata": {
        "id": "e7vPaIoU4pqD"
      },
      "source": [
        "The neural network algorithm, by creating a model from scratch only with NumPy. Explains how forward/backpropagation and weight normalization/activation of the simple single-layer neural network work. Have used the famous MNIST dataset.\n"
      ]
    },
    {
      "cell_type": "markdown",
      "metadata": {
        "id": "qtWBHOcoqnKH"
      },
      "source": [
        "## 1. Data preprocessing"
      ]
    },
    {
      "cell_type": "code",
      "execution_count": 319,
      "metadata": {
        "id": "VA351vjdly0R"
      },
      "outputs": [],
      "source": [
        "import numpy as np\n",
        "import matplotlib.pyplot as plt\n",
        "from sklearn.datasets import fetch_openml\n",
        "from sklearn.model_selection import train_test_split, RandomizedSearchCV\n",
        "from sklearn.base import BaseEstimator, TransformerMixin\n",
        "from sklearn.pipeline import Pipeline\n",
        "RANDOM_STATE = 12579"
      ]
    },
    {
      "cell_type": "markdown",
      "metadata": {
        "id": "nCm_Zo2W8Q22"
      },
      "source": [
        "The MNIST dataset was constructed from two datasets of the US National Institute\n",
        "of Standards and Technology (NIST). The training dataset consists of handwritten\n",
        "digits from 250 different people, 50 percent high school students and 50 percent\n",
        "employees from the Census Bureau. Note that the test dataset contains handwritten digits from different people following the same split."
      ]
    },
    {
      "cell_type": "markdown",
      "metadata": {
        "id": "aPqJ7jTk7aaG"
      },
      "source": [
        "![alt text](https://dezyre.gumlet.net/images/Exploring+MNIST+Dataset+using+PyTorch+to+Train+an+MLP/MNIST+Dataset.png?w=900&dpr=1.0)"
      ]
    },
    {
      "cell_type": "markdown",
      "metadata": {
        "id": "V29SZpPn8S69"
      },
      "source": [
        "This MNIST dataset can be directly downloaded via various routes including tensorflow dataset repository, keras dataset, and scikit-learn. This time, you can use `sklearn.datasets` module."
      ]
    },
    {
      "cell_type": "code",
      "execution_count": 320,
      "metadata": {
        "id": "CmAMpQXwdq4t"
      },
      "outputs": [
        {
          "name": "stderr",
          "output_type": "stream",
          "text": [
            "c:\\Users\\aryad\\AppData\\Local\\Programs\\Python\\Python311\\Lib\\site-packages\\sklearn\\datasets\\_openml.py:1022: FutureWarning: The default value of `parser` will change from `'liac-arff'` to `'auto'` in 1.4. You can set `parser='auto'` to silence this warning. Therefore, an `ImportError` will be raised from 1.4 if the dataset is dense and pandas is not installed. Note that the pandas parser may return different data types. See the Notes Section in fetch_openml's API doc for details.\n",
            "  warn(\n"
          ]
        }
      ],
      "source": [
        "X, y = fetch_openml(\"mnist_784\", version=1, return_X_y=True, as_frame=False)"
      ]
    },
    {
      "cell_type": "markdown",
      "metadata": {
        "id": "UGUngFc88XsU"
      },
      "source": [
        "It has 70,000 different handwriting instances. It usually has 60,000 instances in the training set and the remaining ones in the test set, but scikit-learn loads it as a whole. We need to divide it into two."
      ]
    },
    {
      "cell_type": "code",
      "execution_count": 321,
      "metadata": {
        "id": "gVuTqRrtlb44"
      },
      "outputs": [
        {
          "name": "stdout",
          "output_type": "stream",
          "text": [
            "(array(['0', '1', '2', '3', '4', '5', '6', '7', '8', '9'], dtype=object), array([6903, 7877, 6990, 7141, 6824, 6313, 6876, 7293, 6825, 6958],\n",
            "      dtype=int64))\n",
            "[6903 7877 6990 7141 6824 6313 6876 7293 6825 6958]\n"
          ]
        }
      ],
      "source": [
        "#print(X.shape, y.shape)\n",
        "\n",
        "\n",
        "print(np.unique(y, return_counts = True))\n",
        "print(np.unique(y, return_counts = True)[1])"
      ]
    },
    {
      "cell_type": "markdown",
      "metadata": {
        "id": "kILkvez98bVl"
      },
      "source": [
        "We can also check the class distribution. Is it balanced or not?"
      ]
    },
    {
      "cell_type": "code",
      "execution_count": 322,
      "metadata": {
        "id": "YNAjbM-Z8ixF"
      },
      "outputs": [
        {
          "data": {
            "text/plain": [
              "<BarContainer object of 10 artists>"
            ]
          },
          "execution_count": 322,
          "metadata": {},
          "output_type": "execute_result"
        },
        {
          "data": {
            "image/png": "[encoded data removed]",
            "text/plain": [
              "<Figure size 640x480 with 1 Axes>"
            ]
          },
          "metadata": {},
          "output_type": "display_data"
        }
      ],
      "source": [
        "plt.bar(np.unique(y, return_counts = True)[0], np.unique(y, return_counts = True)[1])"
      ]
    },
    {
      "cell_type": "markdown",
      "metadata": {
        "id": "KEc2na5f9tRg"
      },
      "source": [
        "We may also need to apply normalization for better performance. Since it is clear that its maximum value is 255, we can simply normalize it by dividing the whole value by 255 (then the dataset will range from 0 to 1). We can use NumPy's broadcasting to divide the matrix by one scalar value. It is also possible to further standardize it to have a centeralized mean, but this time it is optional.\n",
        "- Apply normalization to X to have the range [0, 1]"
      ]
    },
    {
      "cell_type": "code",
      "execution_count": 323,
      "metadata": {
        "id": "GzXvdYtlmNqi"
      },
      "outputs": [],
      "source": [
        "X_normalized = X / 255 # CHANGE IT"
      ]
    },
    {
      "cell_type": "markdown",
      "metadata": {
        "id": "zmmuNtw2d8dX"
      },
      "source": [
        "If we take a look at `y`, it has string labels! It might be disturbing when we need to handle them later, so let's also convert them to an integer form.\n",
        "- Change the type of the labels to integer"
      ]
    },
    {
      "cell_type": "code",
      "execution_count": 324,
      "metadata": {
        "id": "vfx0EL0wmoyU"
      },
      "outputs": [],
      "source": [
        "\n",
        "y_integer = y.astype('int') # CHANGE IT\n",
        "#print(y_integer)\n",
        "#print(y)\n"
      ]
    },
    {
      "cell_type": "markdown",
      "metadata": {
        "id": "TqeW4C00l5se"
      },
      "source": [
        "Next, we need to split the dataset into two parts using scikit-learn's `train_test_split` method.\n",
        "- Use scikit-learn's `train_test_split` to create training and test sets.\n",
        "- Set **test_size** to 20%.\n",
        "- Enable stratification and shuffling.\n",
        "- use `X_normalized` and `y_integer`.\n",
        "- set `random_state` to the pre-defined variable `RANDOM_STATE`."
      ]
    },
    {
      "cell_type": "code",
      "execution_count": 325,
      "metadata": {
        "id": "SiERfT0gddu1"
      },
      "outputs": [],
      "source": [
        "X_train, X_test, y_train, y_test = train_test_split(X_normalized , y_integer , test_size=0.2 , random_state=RANDOM_STATE) # CHANGE IT"
      ]
    },
    {
      "cell_type": "markdown",
      "metadata": {
        "id": "vcUJo3uj6sCa"
      },
      "source": [
        "Please print the mean and the standard deviation of `X_train` here (for validation purpose)."
      ]
    },
    {
      "cell_type": "code",
      "execution_count": 326,
      "metadata": {
        "id": "1mujB3I56rjw"
      },
      "outputs": [
        {
          "data": {
            "text/plain": [
              "(0.13099379957340074, 0.30852164309770186)"
            ]
          },
          "execution_count": 326,
          "metadata": {},
          "output_type": "execute_result"
        }
      ],
      "source": [
        "X_train.mean(), X_train.std()"
      ]
    },
    {
      "cell_type": "markdown",
      "metadata": {
        "id": "EMldZza-faxL"
      },
      "source": [
        "Here we can check some of the instances that we get."
      ]
    },
    {
      "cell_type": "code",
      "execution_count": 327,
      "metadata": {
        "colab": {
          "base_uri": "https://localhost:8080/",
          "height": 224
        },
        "id": "TzRs98dodeAF",
        "outputId": "3a6fd962-3567-4616-e2c3-6e6116da3583"
      },
      "outputs": [
        {
          "data": {
            "image/png": "[encoded data removed]",
            "text/plain": [
              "<Figure size 640x480 with 10 Axes>"
            ]
          },
          "metadata": {},
          "output_type": "display_data"
        }
      ],
      "source": [
        "fig, ax = plt.subplots(nrows=2, ncols=5, sharex=True, sharey=True)\n",
        "ax = ax.flatten()\n",
        "for i in range(10):\n",
        "  img = X_train[y_train == i][0].reshape(28, 28)\n",
        "  ax[i].imshow(img, cmap='Greys')\n",
        "ax[0].set_xticks([])\n",
        "ax[0].set_yticks([])\n",
        "plt.tight_layout()\n",
        "plt.show()"
      ]
    },
    {
      "cell_type": "markdown",
      "metadata": {
        "id": "baT1IBRFqrBJ"
      },
      "source": [
        "## 2. Helper functions"
      ]
    },
    {
      "cell_type": "markdown",
      "metadata": {
        "id": "tVROBu9_py1h"
      },
      "source": [
        "First, we need to fix the labels, which are now in a sparse form, to have a one-hot encoded form for better computation of error terms using NumPy's vectorization. Let's create a function that receives a label vector and transform it into a one-hot encoded label matrix.\n",
        "\n",
        "- Complete the `one_hot` function."
      ]
    },
    {
      "cell_type": "code",
      "execution_count": 328,
      "metadata": {
        "id": "msvnKGsR0yUS"
      },
      "outputs": [],
      "source": [
        "def one_hot(y):\n",
        "  \"\"\"\n",
        "  Input:\n",
        "    - y : set of labels\n",
        "\n",
        "  Output:\n",
        "    - onehot: a one-hot-encoded array\n",
        "\n",
        "  This function creates an one-hot encoded representation of the labels.\n",
        "  This means that you will have a set of binary columns indicading each possible class.\n",
        "\n",
        "  You have to develop this one hot encoding strategy without using Python for loop\n",
        "\n",
        "  Expected outcome:\n",
        "    one_hot(np.array([1,0,2,3]))\n",
        "\n",
        "    array([[0., 1., 0., 0.],\n",
        "          [1., 0., 0., 0.],\n",
        "          [0., 0., 1., 0.],\n",
        "          [0., 0., 0., 1.]])\n",
        "  \"\"\"\n",
        "  \n",
        "  n_classes = np.max(y) + 1\n",
        "  y_one_hot = np.zeros((len(y),n_classes))\n",
        "  y_one_hot[np.arange(len(y)), y] = 1\n",
        "  \n",
        "  return y_one_hot # CHANGE IT\n"
      ]
    },
    {
      "cell_type": "markdown",
      "metadata": {
        "id": "5dAPaf1708Bs"
      },
      "source": [
        "Test code here "
      ]
    },
    {
      "cell_type": "code",
      "execution_count": 329,
      "metadata": {
        "id": "sGFbZ_tN00WK"
      },
      "outputs": [
        {
          "data": {
            "text/plain": [
              "array([[0., 1., 0., 0.],\n",
              "       [1., 0., 0., 0.],\n",
              "       [0., 0., 1., 0.],\n",
              "       [0., 0., 0., 1.]])"
            ]
          },
          "execution_count": 329,
          "metadata": {},
          "output_type": "execute_result"
        }
      ],
      "source": [
        "one_hot(np.array([1,0,2,3]))"
      ]
    },
    {
      "cell_type": "markdown",
      "metadata": {
        "id": "7niKihIdpYa5"
      },
      "source": [
        "Next, we may also need a sigmoid function for the output values as we are dealing with a classification problem. Sigmoid can be represented as follows:\n",
        "\n",
        "$$ h_ \\theta (x) =  \\frac{\\mathrm{1} }{\\mathrm{1} + e^{-x} }  $$\n",
        "\n",
        "\n",
        "- Complete the sigmoid function below that supports both vectors and scalars (this can be automatically handled if you use NumPy)."
      ]
    },
    {
      "cell_type": "code",
      "execution_count": 330,
      "metadata": {
        "id": "hFSCiidT1Drz"
      },
      "outputs": [],
      "source": [
        "def sigmoid(x):\n",
        "  \"\"\"\n",
        "  Input:\n",
        "    - z: input vector or scalar value\n",
        "\n",
        "  Output:\n",
        "    - sigmoid: output sigmoid-transformed vector or scalar value\n",
        "\n",
        "  Calculate the sigmoid value of the input.\n",
        "\n",
        "  Expected outcome:\n",
        "    sigmoid(np.array([np.inf, -np.inf, 0]))\n",
        "\n",
        "    array([1. , 0. , 0.5])\n",
        "  \"\"\"\n",
        "  sig_func = 1 / (1 + np.exp(-x))\n",
        "  \n",
        "  \n",
        "  return sig_func # CHANGE IT"
      ]
    },
    {
      "cell_type": "markdown",
      "metadata": {
        "id": "Xlugwi8r0O-H"
      },
      "source": [
        "Test the code here "
      ]
    },
    {
      "cell_type": "code",
      "execution_count": 331,
      "metadata": {
        "id": "3fJNnW22qMQ0"
      },
      "outputs": [
        {
          "data": {
            "text/plain": [
              "array([1. , 0. , 0.5])"
            ]
          },
          "execution_count": 331,
          "metadata": {},
          "output_type": "execute_result"
        }
      ],
      "source": [
        "sigmoid(np.array([np.inf, -np.inf, 0]))"
      ]
    },
    {
      "cell_type": "markdown",
      "metadata": {
        "id": "dnfdCK6Fqtls"
      },
      "source": [
        "## 3. Our FCN classifier with the class structure"
      ]
    },
    {
      "cell_type": "markdown",
      "metadata": {
        "id": "Sn2YtPQk0pXK"
      },
      "source": [
        "Now it is time to create our neural network model from scratch! we eventually need to integrate everything into scikit-learn's pipeline, so it's important to have an appropriate class structure. To do this, we may need to extend `BaseEstimator` and `TransformerMixin` to make scikit-learn recognize that our class is a valid classifier.\n",
        "\n",
        "We are going to develop a neural network with one layer for simplicity. That means we will have two different sets of weights.\n",
        "\n",
        "- First layer: [input size (number of features), hidden layer size]\n",
        "- Second layer (or output layer): [hidden layer size, output size (number of classes)]\n",
        "\n",
        "In the class structure `FullyConnectedNetwork` below, we will develop five different methods as follows:\n",
        " - `compile`: Given parameters, this function will initialize weight and bias values needed for our neural network model.\n",
        "   - Here, you will initialize bias and weights based on a chosen initialization technique.\n",
        "        - We need to implement three different options: normal, Xavier, and he\n",
        "        - Each technique initializes the weight using the normal distribution but different standard deviation. The mean value remains the same.\n",
        "          - Normal:\n",
        "$ \\mu = 0, \\sigma = 0.1 $\n",
        "          - Xavier:\n",
        "$ \\mu = 0, \\sigma = \\sqrt{\\frac{2}{n_{in} + n_{out}}}$\n",
        "          - He:\n",
        "$ \\mu = 0, \\sigma = \\sqrt{\\frac{2}{n_{in}}}$\n",
        " - `forward`: Perform a forward propagation with the weights saved in the model.\n",
        " - `back_propagation`: Perform a back propagation (training the model).\n",
        "    - Most of the derivative terms are already provided. We will only need to finish some part of it.\n",
        "      - Weight and bias update\n",
        "      - Derivative of the sigmoid function\n",
        "        - $σ(x)=σ(x)(1−σ(x))$.\n",
        "\n",
        " - `fit`: Run the whole fitting process (forward and backpropagation for each batch).\n",
        " - `cost`: Calculate the cost (cross-entropy) together with the elastic net (l1/l2). The fomula is described in the function.\n",
        " - `predict`: With a trained model, perform a prediction of unseen data by running the forward propagation with the trained weight and bias.\n",
        " - `evaluate`: With trained weight and bias, perform a prediction of test data and calculate the performance metric (in our case, those are training and validation accuracy scores)."
      ]
    },
    {
      "cell_type": "code",
      "execution_count": 352,
      "metadata": {
        "id": "UxEdUv9hmiTd"
      },
      "outputs": [],
      "source": [
        "class FullyConnectedNetwork(BaseEstimator, TransformerMixin):\n",
        "    def __init__(self, n_hidden=30, l2=0., l1=0., epochs=100, eta=0.001, validation_rate = 0.3,\n",
        "                 shuffle=True, batch_size=1, init_technique = \"normal\", seed=None, debug=True):\n",
        "\n",
        "        \"\"\"\n",
        "        The class structure receive the following parameters to construct and test the model:\n",
        "\n",
        "        Input:\n",
        "          - n_hidden: Number of hidden nodes.\n",
        "          - l2: Lambda value for L2-regularization.\n",
        "          - l1: Lambda value for L1-regularization.\n",
        "          - epochs: Number of passes over the training set.\n",
        "          - eta: Learning rate.\n",
        "          - validation_rate: size of the validation set.\n",
        "          - shuffle: Enabling shuffling option of the dataset every epoch.\n",
        "          - batch_size: Number of training examples per batch.\n",
        "          - init_technique: Indicator for an initialization technique.\n",
        "          - seed: Random seed for initializing weights and shuffling.\n",
        "        \"\"\"\n",
        "        self.seed = seed\n",
        "\n",
        "        # DEFINE RANDOM NUMBER GENERATOR USING THE INPUT SEED\n",
        "    \n",
        "        self.random = np.random.default_rng(seed) # CHANGE IT\n",
        "\n",
        "        self.n_hidden = n_hidden\n",
        "        self.l2 = l2\n",
        "        self.l1 = l1\n",
        "        self.epochs = epochs\n",
        "        self.eta = eta\n",
        "        self.validation_rate = validation_rate\n",
        "        self.shuffle = shuffle\n",
        "        self.batch_size = batch_size\n",
        "        self.debug = debug\n",
        "        self.init_technique = init_technique\n",
        "\n",
        "    def compile(self, n_features, n_outputs):\n",
        "        \"\"\"\n",
        "        Initializing the weights of the model\n",
        "\n",
        "        - Here we will initialize bias and weights based on chosen initialization technique.\n",
        "        - The classifier has three different options: normal, xavier, and he\n",
        "        - Each technique initializes the weight using the normal distribution but different standard deviation.\n",
        "        - Use self.init_technique to check the chosen technique and use self.random to perform the sampling.\n",
        "\n",
        "        Input:\n",
        "          - n_features: input size of the network\n",
        "          - n_outputs: output size of the network\n",
        "          - Unit size of the layer is given as self.n_hidden\n",
        "\n",
        "        Steps:\n",
        "          1. Check if self.random using NumPy's random number generator is created.\n",
        "             We will use this generator throughout this function.\n",
        "          2. Create lists self.W and self.B which will keep the weight values for each layer.\n",
        "          3. Set mean and standard deviation for different initialization technique.\n",
        "          4. Create weights and bias for the linkage between inputs and the first layer.\n",
        "            - Weight should have the size [n_features, self.n_hidden].\n",
        "            - Bias should have the size [self.n_hidden].\n",
        "            - Weight initialization should be applied to the weights only.\n",
        "            - Bias should be initizalied by zeros.\n",
        "          5. Create weights and bias for the linkage between the first layer and the output layer.\n",
        "            - Weight should have the size [self.n_hidden, n_outputs].\n",
        "            - Bias should have the size [n_outputs].\n",
        "            - Weight initialization should be applied to the weights only.\n",
        "            - Bias should be initizalied by zeros.\n",
        "          5. Save the weights to self.W and biases to self.B. Each list should have two elements for each layer.\n",
        "        \"\"\"\n",
        "        if self.random is None:\n",
        "          raise ValueError(\" Random generator not initialized, use np.random.default_rng \")\n",
        "        \n",
        "        self.B = [] \n",
        "        self.W = [] \n",
        "        \n",
        "        if self.init_technique == 'normal' :\n",
        "          mean = 0\n",
        "          std_deviation = 0.1\n",
        "          \n",
        "        elif self.init_technique == 'Xavier' :\n",
        "          mean = 0\n",
        "          std_deviation = np.sqrt(2 / (n_features + n_outputs))\n",
        "        \n",
        "        elif self.init_technique == 'he' :\n",
        "          mean = 0\n",
        "          std_deviation = np.sqrt(2 / n_features)\n",
        "          \n",
        "        else :\n",
        "          raise ValueError(\"Invalid initializing technique\")\n",
        "\n",
        "        # 1. Creating weights and bias for [input -> hidden]\n",
        "        # Using specific initialization techniques for weights\n",
        "        # Weights have the size (n_features, self.n_hidden)\n",
        "        # Using np.zeros for bias with the size 'self.n_hidden'\n",
        "\n",
        "        b_h = np.zeros(self.n_hidden) \n",
        "        w_h = np.random.normal(mean, std_deviation, (n_features, self.n_hidden)) \n",
        "\n",
        "        # 2. Append bias to self.B and weights to self.W\n",
        "        \n",
        "        self.B.append(b_h)\n",
        "        self.W.append(w_h)\n",
        "       \n",
        "        # 3. Creating weights and bias for [hidden -> output]\n",
        "        # Using specific initialization techniques for weights\n",
        "        # Weights should have the size (self.n_hidden, n_outputs)\n",
        "        # Use np.zeros for bias with the size 'n_outputs'\n",
        "\n",
        "        b_out = np.zeros(n_outputs) \n",
        "        w_out = np.random.normal(mean, std_deviation, (self.n_hidden, n_outputs))\n",
        "\n",
        "        # 4. Append bias to self.B and weights to self.W\n",
        "        \n",
        "        self.B.append(b_out)\n",
        "        self.W.append(w_out)\n",
        "\n",
        "\n",
        "    def forward(self, X):\n",
        "        \"\"\"\n",
        "        Given the dataset X, compute forward propagation step with the weights and bias saved in the list.\n",
        "        This process eventually outputs ten numbers in our case as the dataset has ten outputs.\n",
        "        Forward propagation is performed by multiple chained dot products of inputs and weights.\n",
        "\n",
        "        Input:\n",
        "          - X: features\n",
        "\n",
        "        Output:\n",
        "          - Z: Result of dot product of the weights and the previous output for each phase\n",
        "          - A: A list that contains sigmoided values of A\n",
        "        Steps:\n",
        "          1. Create two lists Z and A.\n",
        "          2. Take a dot product of X and the first weight self.W[0] - save the result into Z\n",
        "          3. Apply sigmoid function to the first Z - save the result into A\n",
        "          4. Take a dot product of A and the second weight self.W[1] - save the result into Z\n",
        "          5. Apply sigmoid function to the second Z - save the result into A\n",
        "          6. Return Z and A\n",
        "\n",
        "        \"\"\"\n",
        "\n",
        "        Z = [] \n",
        "        A = [] \n",
        "\n",
        "        # Step 1: net input of hidden layer\n",
        "        # - We are calculating the first XW+b.\n",
        "        # - Taking a dot product of the input features and the initial weights.\n",
        "        # - Adding the outcome to list Z.\n",
        "        \n",
        "        first_Z = X.dot(self.W[0]) + self.B[0]\n",
        "        Z.append(first_Z) \n",
        "\n",
        "        # Step 2: activation of hidden layer\n",
        "        # - Apply the sigmoid function to the dot producted outcome.\n",
        "        # - Add the outcome to list A.\n",
        "        sigmoid_A1 = sigmoid(first_Z)\n",
        "        A.append(sigmoid_A1)\n",
        "\n",
        "        # Step 3: net input of output layer\n",
        "        # - We are calculating the second XW+b.\n",
        "        # - Take a dot product of the intermediate features and the weights of the output layer.\n",
        "        # - Add the outcome to list Z.\n",
        "        second_Z = sigmoid_A1.dot(self.W[1]) + self.B[1]\n",
        "        Z.append(second_Z) \n",
        "\n",
        "        # Step 4: activation output layer\n",
        "        # - Apply the sigmoid function to the dot producted outcome.\n",
        "        # - For simplicity, here the network uses sigmoid instead of softmax.\n",
        "        # - Add the outcome to list A.\n",
        "        sigmoid_A2 = sigmoid(second_Z)\n",
        "        A.append(sigmoid_A2)\n",
        "\n",
        "        return Z, A\n",
        "\n",
        "    def predict(self, X):\n",
        "        \"\"\"\n",
        "\n",
        "        Predict class labels by performing forward propagation.\n",
        "\n",
        "        Input:\n",
        "          - X: Feature matrix.\n",
        "        Output:\n",
        "          - y_pred: Predicted class labels for all data instances.\n",
        "\n",
        "        Steps:\n",
        "          1. Run forward proparation on X and get Z, a.\n",
        "          2. Calculate y_pred by using the final output (A[-1]) and with np.argmax\n",
        "            - We have to choose the index of the one with the highest value, which means the highest probability.\n",
        "          3. Return the prediction. We SHOULD perform the operation using NumPy's vectorization feature.\n",
        "             This means that if we put many instances at once as an input, this function should calculate the result also at once.\n",
        "\n",
        "        \"\"\"\n",
        "        Z , A = self.forward(X) \n",
        "      \n",
        "        y_pred = np.argmax(A[-1], axis = 1) \n",
        "\n",
        "        return y_pred\n",
        "\n",
        "    def cost(self, y_truth, y_pred):\n",
        "        \"\"\"\n",
        "\n",
        "        This function computes the cost for the classification task.\n",
        "        The network supports Elastic net (combination of l1 and l2 with corresponding weights).\n",
        "\n",
        "        Input:\n",
        "          - y_truth: \"One-hot encoded\" class labels.\n",
        "          - y_pred: Activation of the output layer (= output of the forward propagation function).\n",
        "          - The weights for l1 and l2 are saved into self.l1 and self.l2.\n",
        "\n",
        "        Output:\n",
        "          - cost: Regularized cost\n",
        "\n",
        "        Steps:\n",
        "          1. Calculate the cross entropy between the truth (y) and predicted values (y*).\n",
        "             - y * log(y*) - (1 - y) * log(1 - y*)\n",
        "          2. Add l1 and l2 terms to the cost.\n",
        "            - L1 term is the sum of absolute weight values.\n",
        "            - L2 term is the sum of squared weight values.\n",
        "            - We should multiply l1 and l2 ratio saved in self.l1 and self.l2 (this will decide the degree of regularization).\n",
        "            - We should NOT include weights that belong to the bias values.\n",
        "          3. Return the total cost (cross entropy + L1 term + L2 term).\n",
        "\n",
        "        \"\"\"\n",
        "        if len(y_truth.shape) == 1:\n",
        "          y_truth = one_hot(y_truth)\n",
        "          \n",
        "        entropy =  - np.mean(y_truth * np.log(y_pred) + (1 - y_truth) * np.log(1 - y_pred))\n",
        "        \n",
        "        L1_term = 0\n",
        "        L2_term = 0\n",
        "        for w in self.W: \n",
        "            L1_term += np.sum(np.abs(w))\n",
        "            L2_term += np.sum(w**2)\n",
        "        \n",
        "        L1_term *= self.l1 \n",
        "        L2_term *= self.l2     \n",
        "          \n",
        "        cost = entropy + L1_term + L2_term\n",
        "\n",
        "        return cost\n",
        "\n",
        "\n",
        "\n",
        "    def back_propagation(self, X_train, batch_idx, A, y_truth):\n",
        "      \"\"\"\n",
        "      Performing back propagation based on the result of forward propagation and true labels (for each batch).\n",
        "\n",
        "      Input:\n",
        "        X_train: Training features.\n",
        "        batch_idx: The current batch indices from the fit function.\n",
        "        A: Sigmoided output values - the result of forward propagation.\n",
        "        y_truth: One-hot encoded true labels.\n",
        "\n",
        "      Output:\n",
        "        None\n",
        "        Update the weights and biases in self.W/self.B\n",
        "      \"\"\"\n",
        "  \n",
        "\n",
        "      # OUTPUT WEIGHTS (LAYER-OUTPUT)\n",
        "\n",
        "      #δC/δA * δA/δZ\n",
        "      delta_out = A[-1] - y_truth[batch_idx]\n",
        "      # δC/δA * δA/δZ * δZ/δW\n",
        "      grad_w_out = np.dot(A[-2].T, delta_out)\n",
        "      # δC/δA * δA/δZ * δZ/δB\n",
        "      grad_b_out = np.sum(delta_out, axis=0)\n",
        "      \n",
        "      # Using the final gradients of the weight and bias (grad_w_out, grad_b_out), the network needs to update its current weight values.\n",
        "      # The gradient of w and b are already calculated and all we need to do is to merge it with l1/l2 terms.\n",
        "      # Change the values of self.W[1], self.B[1] (output weight and bias).\n",
        "      # - We should also apply l1 and l2 normalization to the weight (not to the bias).\n",
        "      # - We should use the learning rate (self.eta) when changing the value.\n",
        "\n",
        "      delta_w_out = grad_w_out / len(batch_idx)  \n",
        "      delta_b_out = grad_b_out / len(batch_idx)  \n",
        "      self.W[1] -= self.eta * (delta_w_out + self.l1 * np.sign(self.W[1]) + self.l2 * self.W[1])  \n",
        "      self.B[1] -= self.eta * delta_b_out  \n",
        "\n",
        "      # HIDDEN WEIGHTS (INPUT-LAYER)\n",
        "\n",
        "      # To continue to take derivatives backwards, we need to take a derivative of the sigmoid function.\n",
        "      # Here we are trying to take derivative of a sigmoided output A[0].\n",
        "      # Derivative of sigmoid σ(x) can be represented as σ(x)(1−σ(x)).\n",
        "\n",
        "      sigmoid_derivative_h = A[0] * (1- A[0]) \n",
        "      delta_h = (np.dot(delta_out, self.W[1].T) * sigmoid_derivative_h)\n",
        "      grad_w_h = np.dot(X_train[batch_idx].T, delta_h)\n",
        "      grad_b_h = np.sum(delta_h, axis=0)\n",
        "      \n",
        "      # Using the final gradients of the weight and bias (grad_w_h, grad_b_h).\n",
        "      # The gradient of w and b are already calculated and all we need to do is to merge it with l1/l2 terms.\n",
        "      # Change the values of self.W[0], self.B[0] (output weight and bias).\n",
        "      # - We should also apply l1 and l2 normalization to the weight (not to the bias).\n",
        "      # - We should use the learning rate (self.eta) when changing the value.\n",
        "\n",
        "      delta_w_h = grad_w_h / len(batch_idx) \n",
        "      delta_b_h = grad_b_h / len(batch_idx) \n",
        "\n",
        "      self.W[0] -= self.eta * (delta_w_h + self.l1 * np.sign(self.W[0]) + self.l2 * self.W[0]) \n",
        "      self.B[0] -= self.eta * delta_b_h  \n",
        "\n",
        "\n",
        "    def evaluate(self, epoch, X_train, X_valid, y_train, y_valid):\n",
        "      \"\"\"\n",
        "      Evaluate performances on the training and validation sets per epoch\n",
        "\n",
        "      Input:\n",
        "        - epoch: Current epoch number.\n",
        "        - X_train: Training features\n",
        "        - X_valid: Validation features\n",
        "        - y_train: Training labels\n",
        "        - y_valid: Validation labels\n",
        "\n",
        "      Output:\n",
        "        - None\n",
        "        Append the cost and performance metrics of current epoch to self.history\n",
        "      \"\"\"\n",
        "\n",
        "      # Step 1. Calling self.forward on X_train to calculate the output with current weights and bias of the model.\n",
        "      Z, A = self.forward(X_train) \n",
        "      \n",
        "      #Z_valid, A_valid = self.forward(X_valid)\n",
        "      #print(\"y_pred size\", len(A_train))\n",
        "      \n",
        "      # Step 2. calling predict functions with both X_train and X_valid and save the predicted values accordingly.\n",
        "      y_train_pred = self.predict(X_train)\n",
        "      y_valid_pred = self.predict(X_valid)\n",
        "      \n",
        "\n",
        "      # Step 2. Calling self.cost with one hot encoded y_train and the probability of the output prediction.\n",
        "      y_train_enc = one_hot(y_train)\n",
        "      y_valid_enc = one_hot(y_valid)\n",
        "      \n",
        "     # print(\"y_train_enc.size\", y_train_enc.size)\n",
        "      #print(y_train_pred.size)\n",
        "      \n",
        "      cost = self.cost(y_train_enc , A[1]) \n",
        "\n",
        "      # Step 4. Calculate accuracy scores.\n",
        "      # - between y_train_pred and y_train.\n",
        "      # - between y_valid_pred and y_valid.\n",
        "      train_acc = np.mean(y_train_pred == y_train) \n",
        "      valid_acc = np.mean(y_valid_pred == y_valid) \n",
        "\n",
        "      # Step 5. Saving the results into the dictionary.\n",
        "      \n",
        "      if self.debug == True:\n",
        "        print('%d/%d | Cost: %.2f '\n",
        "                        '| Train/Valid Acc.: %.2f%%/%.2f%% ' %\n",
        "                        (epoch+1, self.epochs, cost,\n",
        "                          train_acc*100, valid_acc*100))\n",
        "\n",
        "      self.history['cost'].append(cost)\n",
        "      self.history['train_acc'].append(train_acc)\n",
        "      self.history['valid_acc'].append(valid_acc)\n",
        "\n",
        "\n",
        "    def fit(self, X, y):\n",
        "        \"\"\"\n",
        "\n",
        "        Learn weights from training data.\n",
        "\n",
        "        Input\n",
        "          - X: features (training+validation)\n",
        "          - y: labels\n",
        "\n",
        "        Output\n",
        "          - self.history: information about cost and accuracy scores\n",
        "\n",
        "        \"\"\"\n",
        "\n",
        "        self.history = {'cost': [], 'train_acc': [], 'valid_acc': []}\n",
        "\n",
        "        # Step 1: Select different training and test sets. Using scikit-learn's train_test_split.\n",
        "        # Turn on the stratification option and use self.validation_rate\n",
        "        X_train, X_valid, y_train, y_valid = train_test_split(X, y, test_size=self.validation_rate, stratify=y) \n",
        "        \n",
        "        # Step 2: Compile (initialize) the parameters by running self.compile with correct number of features and outputs\n",
        "        self.compile(X_train.shape[1], np.unique(y_train).shape[0])\n",
        "        \n",
        "        # Step 3: Prepare one-hot encoded training labels by using one_hot function on y_train\n",
        "        y_train_enc = one_hot(y_train) \n",
        "\n",
        "        # Step 4: iterate over training epochs\n",
        "        for i in range(self.epochs):\n",
        "\n",
        "            # Step 5: setthing the indices\n",
        "            # - if self.shuffle is True, shuffle the indices using self.random.shuffle or permutation\n",
        "            indices = np.arange(X_train.shape[0]) \n",
        "            \n",
        "            if self.shuffle:\n",
        "                self.random.shuffle(indices)\n",
        "                \n",
        "            # Step 6: iterate over the data\n",
        "            # - For each iteration, we need to choose the data\n",
        "            for start_idx in range(0, indices.shape[0] , self.batch_size):\n",
        "                end_idx = min(start_idx + self.batch_size, indices.shape[0])\n",
        "                batch_idx = indices[start_idx:end_idx]\n",
        "\n",
        "                if len(batch_idx) == 0:\n",
        "                    continue \n",
        "                # Step 7: Run a forward propagation\n",
        "                Z_train, A_train = self.forward(X_train[batch_idx])\n",
        "                \n",
        "                # Step 8: Run back propagation\n",
        "                # - Using X_train, batch_idx, A, and y_train_enc\n",
        "               \n",
        "                self.back_propagation(X_train, batch_idx, A_train, y_train_enc)\n",
        "\n",
        "            # call evaluate function after inner loop (whole batch cycles) is complete\n",
        "            self.evaluate(i, X_train, X_valid, y_train, y_valid)\n",
        "\n",
        "        # Step 9: After all loops are complete, return self.history\n",
        "        return self.history\n",
        "\n",
        "    def transform(self, X, y=None):\n",
        "     \n",
        "      return self.history\n",
        "\n",
        "    def score(self, X, y=None):\n",
        "      \n",
        "      y_pred = self.predict(X)\n",
        "      acc = np.sum(y == y_pred) / X.shape[0]\n",
        "      return acc"
      ]
    },
    {
      "cell_type": "markdown",
      "metadata": {
        "id": "4QAzKAjhhwHu"
      },
      "source": [
        "After you finish developing the methods in the class structure, you can create a new instance by calling 'FullyConnectedNetwork' class. Create your model using the following parameters:\n",
        "\n",
        "- n_hidden = 150\n",
        "- l2 = 0.01\n",
        "- epochs = 30\n",
        "- eta = 0.001\n",
        "- batch_size = 50\n",
        "- shuffle = True\n",
        "- seed = `RANDOM_STATE`"
      ]
    },
    {
      "cell_type": "code",
      "execution_count": 353,
      "metadata": {
        "id": "pEkq3fydrmVw"
      },
      "outputs": [],
      "source": [
        "nn = FullyConnectedNetwork(n_hidden=150, l2=0.01, epochs=30, eta=0.001, batch_size=50, shuffle=True, seed=RANDOM_STATE) "
      ]
    },
    {
      "cell_type": "markdown",
      "metadata": {
        "id": "IXBBoj_oh5Vt"
      },
      "source": [
        "Then the fit methods will run the model for 30 epochs\n",
        " - Fit the network on `X_train` and `y_train` and save the output to `history`."
      ]
    },
    {
      "cell_type": "code",
      "execution_count": 354,
      "metadata": {
        "id": "uSKfzn3czNrU"
      },
      "outputs": [
        {
          "name": "stdout",
          "output_type": "stream",
          "text": [
            "30732800\n",
            "13171200\n",
            "39200\n",
            "16800\n",
            "1/30 | Cost: 12.07 | Train/Valid Acc.: 31.15%/31.01% \n",
            "2/30 | Cost: 11.88 | Train/Valid Acc.: 45.56%/45.47% \n",
            "3/30 | Cost: 11.70 | Train/Valid Acc.: 53.81%/53.86% \n",
            "4/30 | Cost: 11.52 | Train/Valid Acc.: 59.80%/59.97% \n",
            "5/30 | Cost: 11.35 | Train/Valid Acc.: 61.97%/61.85% \n",
            "6/30 | Cost: 11.18 | Train/Valid Acc.: 65.96%/65.78% \n",
            "7/30 | Cost: 11.02 | Train/Valid Acc.: 67.50%/67.27% \n",
            "8/30 | Cost: 10.86 | Train/Valid Acc.: 69.20%/68.97% \n",
            "9/30 | Cost: 10.71 | Train/Valid Acc.: 70.73%/70.55% \n",
            "10/30 | Cost: 10.56 | Train/Valid Acc.: 72.25%/72.12% \n",
            "11/30 | Cost: 10.41 | Train/Valid Acc.: 73.17%/73.12% \n",
            "12/30 | Cost: 10.26 | Train/Valid Acc.: 73.66%/73.73% \n",
            "13/30 | Cost: 10.12 | Train/Valid Acc.: 74.19%/74.28% \n",
            "14/30 | Cost: 9.98 | Train/Valid Acc.: 75.35%/75.18% \n",
            "15/30 | Cost: 9.85 | Train/Valid Acc.: 75.85%/75.77% \n",
            "16/30 | Cost: 9.72 | Train/Valid Acc.: 76.59%/76.42% \n",
            "17/30 | Cost: 9.59 | Train/Valid Acc.: 77.02%/76.91% \n",
            "18/30 | Cost: 9.46 | Train/Valid Acc.: 77.60%/77.38% \n",
            "19/30 | Cost: 9.33 | Train/Valid Acc.: 78.00%/77.87% \n",
            "20/30 | Cost: 9.21 | Train/Valid Acc.: 78.47%/78.33% \n",
            "21/30 | Cost: 9.09 | Train/Valid Acc.: 78.62%/78.47% \n",
            "22/30 | Cost: 8.97 | Train/Valid Acc.: 79.15%/79.05% \n",
            "23/30 | Cost: 8.86 | Train/Valid Acc.: 79.43%/79.35% \n",
            "24/30 | Cost: 8.74 | Train/Valid Acc.: 79.90%/79.86% \n",
            "25/30 | Cost: 8.63 | Train/Valid Acc.: 80.05%/79.93% \n",
            "26/30 | Cost: 8.52 | Train/Valid Acc.: 80.57%/80.39% \n",
            "27/30 | Cost: 8.41 | Train/Valid Acc.: 80.93%/80.79% \n",
            "28/30 | Cost: 8.30 | Train/Valid Acc.: 80.83%/80.73% \n",
            "29/30 | Cost: 8.19 | Train/Valid Acc.: 81.11%/80.95% \n",
            "30/30 | Cost: 8.09 | Train/Valid Acc.: 81.46%/81.22% \n"
          ]
        }
      ],
      "source": [
        "history = nn.fit(X_train, y_train) "
      ]
    },
    {
      "cell_type": "markdown",
      "metadata": {
        "id": "EGuc6mti3lIp"
      },
      "source": [
        "After the training is done, we should be able to plot the training and validation accuracy scores over time using the `history` dictionary returned by the fit function."
      ]
    },
    {
      "cell_type": "code",
      "execution_count": 355,
      "metadata": {
        "id": "n79B9p-OzPIA"
      },
      "outputs": [
        {
          "data": {
            "image/png": "[encoded data removed]",
            "text/plain": [
              "<Figure size 640x480 with 1 Axes>"
            ]
          },
          "metadata": {},
          "output_type": "display_data"
        }
      ],
      "source": [
        "plt.plot(history['train_acc'])\n",
        "plt.plot(history['valid_acc'])\n",
        "plt.show()"
      ]
    },
    {
      "cell_type": "markdown",
      "metadata": {
        "id": "rPA_LeMzqyFc"
      },
      "source": [
        "## 4. Integrate our classifier into the scikit-learn pipeline and the randomized search"
      ]
    },
    {
      "cell_type": "markdown",
      "metadata": {
        "id": "SP7V3OjInmQM"
      },
      "source": [
        "This time, we can use the same strategy as the second lab, trying to integrate everything from the raw dataset to the performance metrics into scikit-learn pipeline.\n",
        "\n",
        "- Task 1: Create a `Normalizer` class that extends BaseEstimator and TransformerMixin.\n",
        " -  normalizer should do the following job:\n",
        "   - Normalizer: To make the features have the range [0, 1] and also **center the points to zero by subtracting 0.5 from the values.**\n",
        "   - Using NumPy's broadcasting to calculate (X / 255) - 0.5.\n",
        "\n",
        "\n",
        "- Task 2: Create a pipeline that integrates both normalizer and neural network classifier.\n",
        "  - The pipeline should contain the following modules.\n",
        "    - 'normalizer': Normalizer class\n",
        "    - 'classifier': `FullyConnectedNetwork` with default parameters but with epochs=10.\n",
        "\n",
        "- Task 3: Fit the pipeline on the datasets (`X_train`, `y_train`).\n",
        "  - We should **not** use `X_normalized` this time as the normalizer is now part of the pipeline. This means we might need to split the dataset again with `train_test_split` by using `X` and `y_integer`. Turn on stratification, and set `test_size` = 20%.\n",
        "  - Fit the pipeline and report the test score on `X_test` and `y_test` to `pipeline_score`."
      ]
    },
    {
      "cell_type": "code",
      "execution_count": 358,
      "metadata": {
        "id": "7KQyD1cf1Na8"
      },
      "outputs": [
        {
          "name": "stdout",
          "output_type": "stream",
          "text": [
            "30732800\n",
            "13171200\n",
            "39200\n",
            "16800\n",
            "1/10 | Cost: 0.18 | Train/Valid Acc.: 78.23%/77.79% \n",
            "2/10 | Cost: 0.11 | Train/Valid Acc.: 86.23%/85.75% \n",
            "3/10 | Cost: 0.09 | Train/Valid Acc.: 88.48%/88.01% \n",
            "4/10 | Cost: 0.08 | Train/Valid Acc.: 89.55%/89.28% \n",
            "5/10 | Cost: 0.07 | Train/Valid Acc.: 90.26%/89.78% \n",
            "6/10 | Cost: 0.07 | Train/Valid Acc.: 90.77%/90.50% \n",
            "7/10 | Cost: 0.06 | Train/Valid Acc.: 91.27%/91.04% \n",
            "8/10 | Cost: 0.06 | Train/Valid Acc.: 91.40%/91.03% \n",
            "9/10 | Cost: 0.06 | Train/Valid Acc.: 91.90%/91.60% \n",
            "10/10 | Cost: 0.05 | Train/Valid Acc.: 92.22%/91.76% \n"
          ]
        },
        {
          "data": {
            "text/html": [
              "<style>#sk-container-id-1 {color: black;}#sk-container-id-1 pre{padding: 0;}#sk-container-id-1 div.sk-toggleable {background-color: white;}#sk-container-id-1 label.sk-toggleable__label {cursor: pointer;display: block;width: 100%;margin-bottom: 0;padding: 0.3em;box-sizing: border-box;text-align: center;}#sk-container-id-1 label.sk-toggleable__label-arrow:before {content: \"▸\";float: left;margin-right: 0.25em;color: #696969;}#sk-container-id-1 label.sk-toggleable__label-arrow:hover:before {color: black;}#sk-container-id-1 div.sk-estimator:hover label.sk-toggleable__label-arrow:before {color: black;}#sk-container-id-1 div.sk-toggleable__content {max-height: 0;max-width: 0;overflow: hidden;text-align: left;background-color: #f0f8ff;}#sk-container-id-1 div.sk-toggleable__content pre {margin: 0.2em;color: black;border-radius: 0.25em;background-color: #f0f8ff;}#sk-container-id-1 input.sk-toggleable__control:checked~div.sk-toggleable__content {max-height: 200px;max-width: 100%;overflow: auto;}#sk-container-id-1 input.sk-toggleable__control:checked~label.sk-toggleable__label-arrow:before {content: \"▾\";}#sk-container-id-1 div.sk-estimator input.sk-toggleable__control:checked~label.sk-toggleable__label {background-color: #d4ebff;}#sk-container-id-1 div.sk-label input.sk-toggleable__control:checked~label.sk-toggleable__label {background-color: #d4ebff;}#sk-container-id-1 input.sk-hidden--visually {border: 0;clip: rect(1px 1px 1px 1px);clip: rect(1px, 1px, 1px, 1px);height: 1px;margin: -1px;overflow: hidden;padding: 0;position: absolute;width: 1px;}#sk-container-id-1 div.sk-estimator {font-family: monospace;background-color: #f0f8ff;border: 1px dotted black;border-radius: 0.25em;box-sizing: border-box;margin-bottom: 0.5em;}#sk-container-id-1 div.sk-estimator:hover {background-color: #d4ebff;}#sk-container-id-1 div.sk-parallel-item::after {content: \"\";width: 100%;border-bottom: 1px solid gray;flex-grow: 1;}#sk-container-id-1 div.sk-label:hover label.sk-toggleable__label {background-color: #d4ebff;}#sk-container-id-1 div.sk-serial::before {content: \"\";position: absolute;border-left: 1px solid gray;box-sizing: border-box;top: 0;bottom: 0;left: 50%;z-index: 0;}#sk-container-id-1 div.sk-serial {display: flex;flex-direction: column;align-items: center;background-color: white;padding-right: 0.2em;padding-left: 0.2em;position: relative;}#sk-container-id-1 div.sk-item {position: relative;z-index: 1;}#sk-container-id-1 div.sk-parallel {display: flex;align-items: stretch;justify-content: center;background-color: white;position: relative;}#sk-container-id-1 div.sk-item::before, #sk-container-id-1 div.sk-parallel-item::before {content: \"\";position: absolute;border-left: 1px solid gray;box-sizing: border-box;top: 0;bottom: 0;left: 50%;z-index: -1;}#sk-container-id-1 div.sk-parallel-item {display: flex;flex-direction: column;z-index: 1;position: relative;background-color: white;}#sk-container-id-1 div.sk-parallel-item:first-child::after {align-self: flex-end;width: 50%;}#sk-container-id-1 div.sk-parallel-item:last-child::after {align-self: flex-start;width: 50%;}#sk-container-id-1 div.sk-parallel-item:only-child::after {width: 0;}#sk-container-id-1 div.sk-dashed-wrapped {border: 1px dashed gray;margin: 0 0.4em 0.5em 0.4em;box-sizing: border-box;padding-bottom: 0.4em;background-color: white;}#sk-container-id-1 div.sk-label label {font-family: monospace;font-weight: bold;display: inline-block;line-height: 1.2em;}#sk-container-id-1 div.sk-label-container {text-align: center;}#sk-container-id-1 div.sk-container {/* jupyter's `normalize.less` sets `[hidden] { display: none; }` but bootstrap.min.css set `[hidden] { display: none !important; }` so we also need the `!important` here to be able to override the default hidden behavior on the sphinx rendered scikit-learn.org. See: https://github.com/scikit-learn/scikit-learn/issues/21755 */display: inline-block !important;position: relative;}#sk-container-id-1 div.sk-text-repr-fallback {display: none;}</style><div id=\"sk-container-id-1\" class=\"sk-top-container\"><div class=\"sk-text-repr-fallback\"><pre>Pipeline(steps=[(&#x27;normalizer&#x27;, Normalizer()),\n",
              "                (&#x27;classifier&#x27;, FullyConnectedNetwork(epochs=10))])</pre><b>In a Jupyter environment, please rerun this cell to show the HTML representation or trust the notebook. <br />On GitHub, the HTML representation is unable to render, please try loading this page with nbviewer.org.</b></div><div class=\"sk-container\" hidden><div class=\"sk-item sk-dashed-wrapped\"><div class=\"sk-label-container\"><div class=\"sk-label sk-toggleable\"><input class=\"sk-toggleable__control sk-hidden--visually\" id=\"sk-estimator-id-1\" type=\"checkbox\" ><label for=\"sk-estimator-id-1\" class=\"sk-toggleable__label sk-toggleable__label-arrow\">Pipeline</label><div class=\"sk-toggleable__content\"><pre>Pipeline(steps=[(&#x27;normalizer&#x27;, Normalizer()),\n",
              "                (&#x27;classifier&#x27;, FullyConnectedNetwork(epochs=10))])</pre></div></div></div><div class=\"sk-serial\"><div class=\"sk-item\"><div class=\"sk-estimator sk-toggleable\"><input class=\"sk-toggleable__control sk-hidden--visually\" id=\"sk-estimator-id-2\" type=\"checkbox\" ><label for=\"sk-estimator-id-2\" class=\"sk-toggleable__label sk-toggleable__label-arrow\">Normalizer</label><div class=\"sk-toggleable__content\"><pre>Normalizer()</pre></div></div></div><div class=\"sk-item\"><div class=\"sk-estimator sk-toggleable\"><input class=\"sk-toggleable__control sk-hidden--visually\" id=\"sk-estimator-id-3\" type=\"checkbox\" ><label for=\"sk-estimator-id-3\" class=\"sk-toggleable__label sk-toggleable__label-arrow\">FullyConnectedNetwork</label><div class=\"sk-toggleable__content\"><pre>FullyConnectedNetwork(epochs=10)</pre></div></div></div></div></div></div></div>"
            ],
            "text/plain": [
              "Pipeline(steps=[('normalizer', Normalizer()),\n",
              "                ('classifier', FullyConnectedNetwork(epochs=10))])"
            ]
          },
          "execution_count": 358,
          "metadata": {},
          "output_type": "execute_result"
        }
      ],
      "source": [
        "class Normalizer(BaseEstimator, TransformerMixin):\n",
        "  \n",
        "  def __init__(self):\n",
        "    pass\n",
        "        \n",
        "  def fit(self, X, y=None):\n",
        "    return self\n",
        "\n",
        "  def transform(self, X):\n",
        "    X_normalized = X / 255 - 0.5\n",
        "    return X_normalized\n",
        "      \n",
        "pipe = Pipeline([\n",
        "    ('normalizer', Normalizer()),\n",
        "    ('classifier', FullyConnectedNetwork(epochs=10))\n",
        "])\n",
        "X_train, X_test, y_train, y_test = train_test_split(X, y_integer, test_size=0.2, stratify=y_integer)\n",
        "\n",
        "pipe.fit(X_train, y_train)\n",
        "\n",
        "\n",
        "    "
      ]
    },
    {
      "cell_type": "code",
      "execution_count": 360,
      "metadata": {
        "id": "tQRQASa5bz89"
      },
      "outputs": [],
      "source": [
        "pipeline_score = pipe.score(X_test, y_test) "
      ]
    },
    {
      "cell_type": "code",
      "execution_count": 361,
      "metadata": {
        "id": "Lcykfo9x6zY8"
      },
      "outputs": [
        {
          "name": "stdout",
          "output_type": "stream",
          "text": [
            "0.9176428571428571\n"
          ]
        }
      ],
      "source": [
        "# PRINT THE SCORE HERE\n",
        "print(pipeline_score)"
      ]
    },
    {
      "cell_type": "markdown",
      "metadata": {
        "id": "nMdqSR8k4hRI"
      },
      "source": [
        "- Task 4: Randomized search\n",
        "  - After constructing your pipeline, you can perform a randomized search on it.\n",
        "  - Define your parameter grid with the following information. Use `np.arange` if neccesary:\n",
        "    - l1 of classifier: 0 to 0.01 (included) with step size 0.002.\n",
        "    - l2 of classifier: 0 to 0.01 (included) with step size 0.002.\n",
        "    - size of hidden layer of classifier: 20 to 100 with step size 10\n",
        "    - learning rate of classifier: 0.0001 to 0.001 with step size 0.0001\n",
        "    - initialization techniques of classifier: [normal, xavier, he]\n",
        "  - Run your randomized search with cv=3. Fit it on your previous `X_train` and `y_train`.\n",
        "    - Make 10 different attempts.\n",
        "    - Set `random_state` = `RANDOM_STATE`\n",
        "  - Report your best classifier and best score into the variables `best_classifier` and `best_score`.\n",
        "\n",
        "  - **Note that this task will take a few hours based on computing power, so you may not need to finish the run. The submission is regarded correct if the logic is correct - if you cannot finish the task before the submission.**"
      ]
    },
    {
      "cell_type": "code",
      "execution_count": 369,
      "metadata": {
        "id": "rysn4lmhmpBb"
      },
      "outputs": [
        {
          "name": "stdout",
          "output_type": "stream",
          "text": [
            "20488272\n",
            "8780800\n",
            "26133\n",
            "11200\n",
            "1/10 | Cost: 3.49 | Train/Valid Acc.: 11.27%/11.29% \n",
            "2/10 | Cost: 1.12 | Train/Valid Acc.: 11.19%/11.20% \n",
            "3/10 | Cost: 0.67 | Train/Valid Acc.: 11.19%/11.20% \n",
            "4/10 | Cost: 0.60 | Train/Valid Acc.: 11.19%/11.20% \n",
            "5/10 | Cost: 0.58 | Train/Valid Acc.: 11.19%/11.20% \n",
            "6/10 | Cost: 0.56 | Train/Valid Acc.: 11.19%/11.20% \n",
            "7/10 | Cost: 0.55 | Train/Valid Acc.: 11.19%/11.20% \n",
            "8/10 | Cost: 0.54 | Train/Valid Acc.: 11.19%/11.20% \n",
            "9/10 | Cost: 0.52 | Train/Valid Acc.: 11.19%/11.20% \n",
            "10/10 | Cost: 0.51 | Train/Valid Acc.: 11.19%/11.20% \n",
            "20488272\n",
            "8780800\n",
            "26133\n",
            "11200\n",
            "1/10 | Cost: 3.47 | Train/Valid Acc.: 12.06%/12.20% \n",
            "2/10 | Cost: 1.12 | Train/Valid Acc.: 11.30%/11.30% \n",
            "3/10 | Cost: 0.67 | Train/Valid Acc.: 11.30%/11.30% \n",
            "4/10 | Cost: 0.60 | Train/Valid Acc.: 11.30%/11.30% \n",
            "5/10 | Cost: 0.58 | Train/Valid Acc.: 11.30%/11.30% \n",
            "6/10 | Cost: 0.56 | Train/Valid Acc.: 11.30%/11.30% \n",
            "7/10 | Cost: 0.55 | Train/Valid Acc.: 11.30%/11.30% \n",
            "8/10 | Cost: 0.54 | Train/Valid Acc.: 11.30%/11.30% \n",
            "9/10 | Cost: 0.52 | Train/Valid Acc.: 11.30%/11.30% \n",
            "10/10 | Cost: 0.51 | Train/Valid Acc.: 11.30%/11.30% \n",
            "20488272\n",
            "8781584\n",
            "26133\n",
            "11201\n",
            "1/10 | Cost: 3.50 | Train/Valid Acc.: 11.53%/11.45% \n",
            "2/10 | Cost: 1.13 | Train/Valid Acc.: 11.26%/11.27% \n",
            "3/10 | Cost: 0.67 | Train/Valid Acc.: 11.26%/11.27% \n",
            "4/10 | Cost: 0.60 | Train/Valid Acc.: 11.26%/11.27% \n",
            "5/10 | Cost: 0.58 | Train/Valid Acc.: 10.44%/10.44% \n",
            "6/10 | Cost: 0.56 | Train/Valid Acc.: 10.44%/10.44% \n",
            "7/10 | Cost: 0.55 | Train/Valid Acc.: 11.26%/11.27% \n",
            "8/10 | Cost: 0.54 | Train/Valid Acc.: 11.26%/11.27% \n",
            "9/10 | Cost: 0.52 | Train/Valid Acc.: 11.26%/11.27% \n",
            "10/10 | Cost: 0.51 | Train/Valid Acc.: 11.26%/11.27% \n",
            "20488272\n",
            "8780800\n",
            "26133\n",
            "11200\n",
            "20488272\n",
            "8780800\n",
            "26133\n",
            "11200\n",
            "20488272\n",
            "8781584\n",
            "26133\n",
            "11201\n",
            "20488272\n",
            "8780800\n",
            "26133\n",
            "11200\n",
            "1/10 | Cost: 9.22 | Train/Valid Acc.: 51.76%/51.35% \n",
            "2/10 | Cost: 4.83 | Train/Valid Acc.: 63.67%/63.66% \n",
            "3/10 | Cost: 2.58 | Train/Valid Acc.: 60.95%/60.86% \n",
            "4/10 | Cost: 1.59 | Train/Valid Acc.: 63.87%/64.00% \n",
            "5/10 | Cost: 1.24 | Train/Valid Acc.: 64.94%/65.16% \n",
            "6/10 | Cost: 1.13 | Train/Valid Acc.: 65.31%/65.39% \n",
            "7/10 | Cost: 1.11 | Train/Valid Acc.: 67.53%/67.38% \n",
            "8/10 | Cost: 1.12 | Train/Valid Acc.: 69.30%/69.41% \n",
            "9/10 | Cost: 1.13 | Train/Valid Acc.: 70.56%/70.55% \n",
            "10/10 | Cost: 1.14 | Train/Valid Acc.: 70.44%/70.31% \n",
            "20488272\n",
            "8780800\n",
            "26133\n",
            "11200\n",
            "1/10 | Cost: 9.19 | Train/Valid Acc.: 54.88%/54.42% \n",
            "2/10 | Cost: 4.85 | Train/Valid Acc.: 58.73%/58.21% \n",
            "3/10 | Cost: 2.60 | Train/Valid Acc.: 65.28%/64.77% \n",
            "4/10 | Cost: 1.61 | Train/Valid Acc.: 62.80%/62.04% \n",
            "5/10 | Cost: 1.25 | Train/Valid Acc.: 62.37%/61.96% \n",
            "6/10 | Cost: 1.14 | Train/Valid Acc.: 63.10%/62.49% \n",
            "7/10 | Cost: 1.11 | Train/Valid Acc.: 66.48%/66.13% \n",
            "8/10 | Cost: 1.11 | Train/Valid Acc.: 67.15%/66.71% \n",
            "9/10 | Cost: 1.13 | Train/Valid Acc.: 68.89%/68.37% \n",
            "10/10 | Cost: 1.14 | Train/Valid Acc.: 71.92%/71.22% \n",
            "20488272\n",
            "8781584\n",
            "26133\n",
            "11201\n",
            "1/10 | Cost: 9.23 | Train/Valid Acc.: 62.61%/62.47% \n",
            "2/10 | Cost: 4.86 | Train/Valid Acc.: 61.99%/61.66% \n",
            "3/10 | Cost: 2.60 | Train/Valid Acc.: 63.04%/62.71% \n",
            "4/10 | Cost: 1.61 | Train/Valid Acc.: 63.40%/62.93% \n",
            "5/10 | Cost: 1.24 | Train/Valid Acc.: 63.85%/63.11% \n",
            "6/10 | Cost: 1.12 | Train/Valid Acc.: 66.08%/65.67% \n",
            "7/10 | Cost: 1.09 | Train/Valid Acc.: 68.00%/67.18% \n",
            "8/10 | Cost: 1.09 | Train/Valid Acc.: 69.36%/68.63% \n",
            "9/10 | Cost: 1.10 | Train/Valid Acc.: 68.23%/67.56% \n",
            "10/10 | Cost: 1.11 | Train/Valid Acc.: 70.33%/69.26% \n",
            "20488272\n",
            "8780800\n",
            "26133\n",
            "11200\n",
            "1/10 | Cost: 0.97 | Train/Valid Acc.: 62.35%/62.18% \n",
            "2/10 | Cost: 1.04 | Train/Valid Acc.: 76.79%/75.79% \n",
            "3/10 | Cost: 1.13 | Train/Valid Acc.: 82.50%/82.03% \n",
            "4/10 | Cost: 1.19 | Train/Valid Acc.: 84.27%/83.62% \n",
            "5/10 | Cost: 1.23 | Train/Valid Acc.: 86.71%/86.03% \n",
            "6/10 | Cost: 1.26 | Train/Valid Acc.: 87.51%/87.01% \n",
            "7/10 | Cost: 1.28 | Train/Valid Acc.: 88.28%/87.59% \n",
            "8/10 | Cost: 1.29 | Train/Valid Acc.: 88.33%/87.61% \n",
            "9/10 | Cost: 1.30 | Train/Valid Acc.: 88.55%/87.85% \n",
            "10/10 | Cost: 1.31 | Train/Valid Acc.: 88.97%/88.13% \n",
            "20488272\n",
            "8780800\n",
            "26133\n",
            "11200\n",
            "1/10 | Cost: 0.98 | Train/Valid Acc.: 61.18%/60.72% \n",
            "2/10 | Cost: 1.05 | Train/Valid Acc.: 76.05%/76.34% \n",
            "3/10 | Cost: 1.14 | Train/Valid Acc.: 81.63%/81.67% \n",
            "4/10 | Cost: 1.19 | Train/Valid Acc.: 84.53%/84.03% \n",
            "5/10 | Cost: 1.23 | Train/Valid Acc.: 86.68%/86.41% \n",
            "6/10 | Cost: 1.25 | Train/Valid Acc.: 87.63%/87.38% \n",
            "7/10 | Cost: 1.27 | Train/Valid Acc.: 87.96%/87.54% \n",
            "8/10 | Cost: 1.28 | Train/Valid Acc.: 87.96%/87.82% \n",
            "9/10 | Cost: 1.29 | Train/Valid Acc.: 88.07%/87.93% \n",
            "10/10 | Cost: 1.30 | Train/Valid Acc.: 88.42%/88.22% \n",
            "20488272\n",
            "8781584\n",
            "26133\n",
            "11201\n",
            "1/10 | Cost: 0.98 | Train/Valid Acc.: 59.61%/59.62% \n",
            "2/10 | Cost: 1.05 | Train/Valid Acc.: 75.38%/74.91% \n",
            "3/10 | Cost: 1.13 | Train/Valid Acc.: 81.95%/81.14% \n",
            "4/10 | Cost: 1.19 | Train/Valid Acc.: 84.98%/84.17% \n",
            "5/10 | Cost: 1.23 | Train/Valid Acc.: 86.83%/85.97% \n",
            "6/10 | Cost: 1.25 | Train/Valid Acc.: 87.67%/86.93% \n",
            "7/10 | Cost: 1.27 | Train/Valid Acc.: 88.11%/87.44% \n",
            "8/10 | Cost: 1.28 | Train/Valid Acc.: 88.24%/87.39% \n",
            "9/10 | Cost: 1.29 | Train/Valid Acc.: 88.94%/88.05% \n",
            "10/10 | Cost: 1.30 | Train/Valid Acc.: 88.98%/88.05% \n",
            "20488272\n",
            "8780800\n",
            "26133\n",
            "11200\n",
            "1/10 | Cost: 0.63 | Train/Valid Acc.: 18.24%/18.06% \n",
            "2/10 | Cost: 0.55 | Train/Valid Acc.: 11.19%/11.20% \n",
            "3/10 | Cost: 0.51 | Train/Valid Acc.: 11.19%/11.20% \n",
            "4/10 | Cost: 0.47 | Train/Valid Acc.: 11.19%/11.20% \n",
            "5/10 | Cost: 0.43 | Train/Valid Acc.: 10.50%/10.50% \n",
            "6/10 | Cost: 0.40 | Train/Valid Acc.: 11.19%/11.20% \n",
            "7/10 | Cost: 0.37 | Train/Valid Acc.: 11.19%/11.20% \n",
            "8/10 | Cost: 0.34 | Train/Valid Acc.: 10.50%/10.50% \n",
            "9/10 | Cost: 0.33 | Train/Valid Acc.: 11.19%/11.20% \n",
            "10/10 | Cost: 0.33 | Train/Valid Acc.: 11.19%/11.20% \n",
            "20488272\n",
            "8780800\n",
            "26133\n",
            "11200\n",
            "1/10 | Cost: 0.62 | Train/Valid Acc.: 10.32%/10.32% \n",
            "2/10 | Cost: 0.55 | Train/Valid Acc.: 11.30%/11.30% \n",
            "3/10 | Cost: 0.51 | Train/Valid Acc.: 10.31%/10.31% \n",
            "4/10 | Cost: 0.47 | Train/Valid Acc.: 11.30%/11.30% \n",
            "5/10 | Cost: 0.43 | Train/Valid Acc.: 11.30%/11.30% \n",
            "6/10 | Cost: 0.40 | Train/Valid Acc.: 11.30%/11.30% \n",
            "7/10 | Cost: 0.37 | Train/Valid Acc.: 10.31%/10.31% \n",
            "8/10 | Cost: 0.34 | Train/Valid Acc.: 9.76%/9.76% \n",
            "9/10 | Cost: 0.33 | Train/Valid Acc.: 10.31%/10.31% \n",
            "10/10 | Cost: 0.33 | Train/Valid Acc.: 11.30%/11.30% \n",
            "20488272\n",
            "8781584\n",
            "26133\n",
            "11201\n",
            "1/10 | Cost: 0.63 | Train/Valid Acc.: 11.26%/11.27% \n",
            "2/10 | Cost: 0.55 | Train/Valid Acc.: 10.44%/10.44% \n",
            "3/10 | Cost: 0.51 | Train/Valid Acc.: 11.26%/11.27% \n",
            "4/10 | Cost: 0.47 | Train/Valid Acc.: 11.26%/11.27% \n",
            "5/10 | Cost: 0.43 | Train/Valid Acc.: 11.26%/11.27% \n",
            "6/10 | Cost: 0.40 | Train/Valid Acc.: 10.12%/10.12% \n",
            "7/10 | Cost: 0.37 | Train/Valid Acc.: 10.44%/10.44% \n",
            "8/10 | Cost: 0.35 | Train/Valid Acc.: 11.26%/11.27% \n",
            "9/10 | Cost: 0.33 | Train/Valid Acc.: 11.26%/11.27% \n",
            "10/10 | Cost: 0.33 | Train/Valid Acc.: 11.26%/11.27% \n",
            "20488272\n",
            "8780800\n",
            "26133\n",
            "11200\n",
            "20488272\n",
            "8780800\n",
            "26133\n",
            "11200\n",
            "20488272\n",
            "8781584\n",
            "26133\n",
            "11201\n",
            "20488272\n",
            "8780800\n",
            "26133\n",
            "11200\n",
            "1/10 | Cost: 1.14 | Train/Valid Acc.: 53.76%/53.74% \n",
            "2/10 | Cost: 1.09 | Train/Valid Acc.: 69.37%/69.75% \n",
            "3/10 | Cost: 1.11 | Train/Valid Acc.: 77.94%/77.96% \n",
            "4/10 | Cost: 1.14 | Train/Valid Acc.: 80.97%/80.88% \n",
            "5/10 | Cost: 1.16 | Train/Valid Acc.: 83.50%/83.20% \n",
            "6/10 | Cost: 1.19 | Train/Valid Acc.: 85.45%/85.31% \n",
            "7/10 | Cost: 1.20 | Train/Valid Acc.: 85.93%/85.63% \n",
            "8/10 | Cost: 1.22 | Train/Valid Acc.: 86.71%/86.51% \n",
            "9/10 | Cost: 1.23 | Train/Valid Acc.: 87.51%/87.29% \n",
            "10/10 | Cost: 1.24 | Train/Valid Acc.: 87.70%/87.57% \n",
            "20488272\n",
            "8780800\n",
            "26133\n",
            "11200\n",
            "1/10 | Cost: 1.12 | Train/Valid Acc.: 54.28%/54.38% \n",
            "2/10 | Cost: 1.07 | Train/Valid Acc.: 69.74%/70.23% \n",
            "3/10 | Cost: 1.09 | Train/Valid Acc.: 77.14%/77.34% \n",
            "4/10 | Cost: 1.12 | Train/Valid Acc.: 81.31%/81.38% \n",
            "5/10 | Cost: 1.15 | Train/Valid Acc.: 83.47%/83.68% \n",
            "6/10 | Cost: 1.18 | Train/Valid Acc.: 85.39%/85.46% \n",
            "7/10 | Cost: 1.19 | Train/Valid Acc.: 86.48%/86.41% \n",
            "8/10 | Cost: 1.21 | Train/Valid Acc.: 87.33%/87.18% \n",
            "9/10 | Cost: 1.22 | Train/Valid Acc.: 87.68%/87.40% \n",
            "10/10 | Cost: 1.23 | Train/Valid Acc.: 88.00%/87.82% \n",
            "20488272\n",
            "8781584\n",
            "26133\n",
            "11201\n",
            "1/10 | Cost: 1.12 | Train/Valid Acc.: 45.91%/45.61% \n",
            "2/10 | Cost: 1.07 | Train/Valid Acc.: 68.40%/68.60% \n",
            "3/10 | Cost: 1.10 | Train/Valid Acc.: 77.84%/77.24% \n",
            "4/10 | Cost: 1.13 | Train/Valid Acc.: 80.92%/80.47% \n",
            "5/10 | Cost: 1.17 | Train/Valid Acc.: 83.09%/82.77% \n",
            "6/10 | Cost: 1.19 | Train/Valid Acc.: 84.95%/84.61% \n",
            "7/10 | Cost: 1.21 | Train/Valid Acc.: 86.11%/85.64% \n",
            "8/10 | Cost: 1.23 | Train/Valid Acc.: 86.75%/86.17% \n",
            "9/10 | Cost: 1.24 | Train/Valid Acc.: 87.81%/87.31% \n",
            "10/10 | Cost: 1.25 | Train/Valid Acc.: 88.22%/87.56% \n",
            "20488272\n",
            "8780800\n",
            "26133\n",
            "11200\n",
            "1/10 | Cost: 1.33 | Train/Valid Acc.: 56.06%/55.92% \n",
            "2/10 | Cost: 1.24 | Train/Valid Acc.: 68.46%/68.22% \n",
            "3/10 | Cost: 1.24 | Train/Valid Acc.: 76.50%/76.48% \n",
            "4/10 | Cost: 1.26 | Train/Valid Acc.: 80.78%/81.12% \n",
            "5/10 | Cost: 1.28 | Train/Valid Acc.: 84.23%/84.36% \n",
            "6/10 | Cost: 1.31 | Train/Valid Acc.: 85.99%/86.33% \n",
            "7/10 | Cost: 1.33 | Train/Valid Acc.: 87.00%/87.19% \n",
            "8/10 | Cost: 1.35 | Train/Valid Acc.: 87.36%/87.67% \n",
            "9/10 | Cost: 1.36 | Train/Valid Acc.: 87.42%/87.76% \n",
            "10/10 | Cost: 1.37 | Train/Valid Acc.: 88.31%/88.54% \n",
            "20488272\n",
            "8780800\n",
            "26133\n",
            "11200\n",
            "1/10 | Cost: 1.31 | Train/Valid Acc.: 47.94%/48.36% \n",
            "2/10 | Cost: 1.23 | Train/Valid Acc.: 74.12%/74.00% \n",
            "3/10 | Cost: 1.25 | Train/Valid Acc.: 81.11%/81.17% \n",
            "4/10 | Cost: 1.29 | Train/Valid Acc.: 84.18%/84.31% \n",
            "5/10 | Cost: 1.32 | Train/Valid Acc.: 84.97%/84.75% \n",
            "6/10 | Cost: 1.34 | Train/Valid Acc.: 86.62%/86.38% \n",
            "7/10 | Cost: 1.35 | Train/Valid Acc.: 87.84%/87.54% \n",
            "8/10 | Cost: 1.36 | Train/Valid Acc.: 87.87%/87.56% \n",
            "9/10 | Cost: 1.37 | Train/Valid Acc.: 88.47%/88.21% \n",
            "10/10 | Cost: 1.38 | Train/Valid Acc.: 88.52%/88.30% \n",
            "20488272\n",
            "8781584\n",
            "26133\n",
            "11201\n",
            "1/10 | Cost: 1.31 | Train/Valid Acc.: 57.45%/56.92% \n",
            "2/10 | Cost: 1.24 | Train/Valid Acc.: 72.62%/72.90% \n",
            "3/10 | Cost: 1.26 | Train/Valid Acc.: 78.44%/78.81% \n",
            "4/10 | Cost: 1.29 | Train/Valid Acc.: 81.64%/81.72% \n",
            "5/10 | Cost: 1.31 | Train/Valid Acc.: 84.43%/84.33% \n",
            "6/10 | Cost: 1.32 | Train/Valid Acc.: 85.68%/85.82% \n",
            "7/10 | Cost: 1.33 | Train/Valid Acc.: 86.58%/86.39% \n",
            "8/10 | Cost: 1.34 | Train/Valid Acc.: 87.51%/87.18% \n",
            "9/10 | Cost: 1.35 | Train/Valid Acc.: 88.02%/87.53% \n",
            "10/10 | Cost: 1.36 | Train/Valid Acc.: 88.15%/87.80% \n",
            "20488272\n",
            "8780800\n",
            "26133\n",
            "11200\n",
            "1/10 | Cost: 1.30 | Train/Valid Acc.: 11.19%/11.20% \n",
            "2/10 | Cost: 0.61 | Train/Valid Acc.: 11.19%/11.20% \n",
            "3/10 | Cost: 0.57 | Train/Valid Acc.: 11.19%/11.20% \n",
            "4/10 | Cost: 0.54 | Train/Valid Acc.: 10.17%/10.17% \n",
            "5/10 | Cost: 0.52 | Train/Valid Acc.: 11.19%/11.20% \n",
            "6/10 | Cost: 0.49 | Train/Valid Acc.: 10.50%/10.50% \n",
            "7/10 | Cost: 0.47 | Train/Valid Acc.: 11.19%/11.20% \n",
            "8/10 | Cost: 0.44 | Train/Valid Acc.: 9.73%/9.73% \n",
            "9/10 | Cost: 0.42 | Train/Valid Acc.: 10.11%/10.12% \n",
            "10/10 | Cost: 0.40 | Train/Valid Acc.: 11.19%/11.20% \n",
            "20488272\n",
            "8780800\n",
            "26133\n",
            "11200\n",
            "1/10 | Cost: 1.33 | Train/Valid Acc.: 11.30%/11.30% \n",
            "2/10 | Cost: 0.61 | Train/Valid Acc.: 11.30%/11.30% \n",
            "3/10 | Cost: 0.57 | Train/Valid Acc.: 10.31%/10.31% \n",
            "4/10 | Cost: 0.54 | Train/Valid Acc.: 11.30%/11.30% \n",
            "5/10 | Cost: 0.52 | Train/Valid Acc.: 11.30%/11.30% \n",
            "6/10 | Cost: 0.49 | Train/Valid Acc.: 11.30%/11.30% \n",
            "7/10 | Cost: 0.47 | Train/Valid Acc.: 9.94%/9.94% \n",
            "8/10 | Cost: 0.44 | Train/Valid Acc.: 11.30%/11.30% \n",
            "9/10 | Cost: 0.42 | Train/Valid Acc.: 11.30%/11.30% \n",
            "10/10 | Cost: 0.40 | Train/Valid Acc.: 10.31%/10.31% \n",
            "20488272\n",
            "8781584\n",
            "26133\n",
            "11201\n",
            "1/10 | Cost: 1.32 | Train/Valid Acc.: 23.35%/23.44% \n",
            "2/10 | Cost: 0.61 | Train/Valid Acc.: 11.26%/11.27% \n",
            "3/10 | Cost: 0.57 | Train/Valid Acc.: 11.26%/11.27% \n",
            "4/10 | Cost: 0.55 | Train/Valid Acc.: 11.26%/11.27% \n",
            "5/10 | Cost: 0.52 | Train/Valid Acc.: 11.26%/11.27% \n",
            "6/10 | Cost: 0.49 | Train/Valid Acc.: 11.26%/11.27% \n",
            "7/10 | Cost: 0.47 | Train/Valid Acc.: 11.26%/11.27% \n",
            "8/10 | Cost: 0.44 | Train/Valid Acc.: 9.98%/9.97% \n",
            "9/10 | Cost: 0.42 | Train/Valid Acc.: 11.26%/11.27% \n",
            "10/10 | Cost: 0.40 | Train/Valid Acc.: 11.26%/11.27% \n",
            "20488272\n",
            "8780800\n",
            "26133\n",
            "11200\n",
            "20488272\n",
            "8780800\n",
            "26133\n",
            "11200\n",
            "20488272\n",
            "8781584\n",
            "26133\n",
            "11201\n"
          ]
        },
        {
          "name": "stderr",
          "output_type": "stream",
          "text": [
            "c:\\Users\\aryad\\AppData\\Local\\Programs\\Python\\Python311\\Lib\\site-packages\\sklearn\\model_selection\\_validation.py:425: FitFailedWarning: \n",
            "9 fits failed out of a total of 30.\n",
            "The score on these train-test partitions for these parameters will be set to nan.\n",
            "If these failures are not expected, you can try to debug them by setting error_score='raise'.\n",
            "\n",
            "Below are more details about the failures:\n",
            "--------------------------------------------------------------------------------\n",
            "9 fits failed with the following error:\n",
            "Traceback (most recent call last):\n",
            "  File \"c:\\Users\\aryad\\AppData\\Local\\Programs\\Python\\Python311\\Lib\\site-packages\\sklearn\\model_selection\\_validation.py\", line 729, in _fit_and_score\n",
            "    estimator.fit(X_train, y_train, **fit_params)\n",
            "  File \"c:\\Users\\aryad\\AppData\\Local\\Programs\\Python\\Python311\\Lib\\site-packages\\sklearn\\base.py\", line 1152, in wrapper\n",
            "    return fit_method(estimator, *args, **kwargs)\n",
            "           ^^^^^^^^^^^^^^^^^^^^^^^^^^^^^^^^^^^^^^\n",
            "  File \"c:\\Users\\aryad\\AppData\\Local\\Programs\\Python\\Python311\\Lib\\site-packages\\sklearn\\pipeline.py\", line 427, in fit\n",
            "    self._final_estimator.fit(Xt, y, **fit_params_last_step)\n",
            "  File \"C:\\Users\\aryad\\AppData\\Local\\Temp\\ipykernel_5092\\4064795737.py\", line 407, in fit\n",
            "    self.compile(X_train.shape[1], np.unique(y_train).shape[0])\n",
            "  File \"C:\\Users\\aryad\\AppData\\Local\\Temp\\ipykernel_5092\\4064795737.py\", line 89, in compile\n",
            "    raise ValueError(\"Invalid initializing technique\")\n",
            "ValueError: Invalid initializing technique\n",
            "\n",
            "  warnings.warn(some_fits_failed_message, FitFailedWarning)\n",
            "c:\\Users\\aryad\\AppData\\Local\\Programs\\Python\\Python311\\Lib\\site-packages\\sklearn\\model_selection\\_search.py:979: UserWarning: One or more of the test scores are non-finite: [0.11253571        nan 0.70787487 0.88426785 0.11253571        nan\n",
            " 0.87473214 0.88035707 0.10864292        nan]\n",
            "  warnings.warn(\n"
          ]
        },
        {
          "name": "stdout",
          "output_type": "stream",
          "text": [
            "30732800\n",
            "13171200\n",
            "39200\n",
            "16800\n",
            "1/10 | Cost: 1.00 | Train/Valid Acc.: 67.68%/67.52% \n",
            "2/10 | Cost: 1.13 | Train/Valid Acc.: 82.18%/81.74% \n",
            "3/10 | Cost: 1.21 | Train/Valid Acc.: 85.92%/85.68% \n",
            "4/10 | Cost: 1.25 | Train/Valid Acc.: 87.05%/86.96% \n",
            "5/10 | Cost: 1.28 | Train/Valid Acc.: 88.06%/88.04% \n",
            "6/10 | Cost: 1.29 | Train/Valid Acc.: 88.08%/87.92% \n",
            "7/10 | Cost: 1.31 | Train/Valid Acc.: 88.49%/88.46% \n",
            "8/10 | Cost: 1.31 | Train/Valid Acc.: 88.78%/88.67% \n",
            "9/10 | Cost: 1.32 | Train/Valid Acc.: 89.03%/88.94% \n",
            "10/10 | Cost: 1.32 | Train/Valid Acc.: 88.85%/88.70% \n"
          ]
        }
      ],
      "source": [
        "parameter_grid = {'classifier__l1': np.arange(0, 0.011, 0.002),\n",
        "                 'classifier__l2': np.arange(0, 0.011, 0.002),\n",
        "                 'classifier__n_hidden': np.arange(20, 101, 10),\n",
        "                 'classifier__eta': np.arange(0.0001, 0.0011, 0.0001),\n",
        "                 'classifier__init_technique': ['normal', 'xavier', 'he'] \n",
        "}\n",
        "random_search = RandomizedSearchCV(pipe, param_distributions=parameter_grid, cv=3, n_iter=10, random_state=RANDOM_STATE)\n",
        "random_search.fit(X_train, y_train)\n",
        "\n",
        "\n",
        "best_classifier = random_search.best_estimator_ \n",
        "best_score = random_search.best_score_ "
      ]
    },
    {
      "cell_type": "code",
      "execution_count": 370,
      "metadata": {
        "id": "Zisqj2Qk6318"
      },
      "outputs": [
        {
          "name": "stdout",
          "output_type": "stream",
          "text": [
            "Pipeline(steps=[('normalizer', Normalizer()),\n",
            "                ('classifier',\n",
            "                 FullyConnectedNetwork(epochs=10, eta=0.0008,\n",
            "                                       init_technique='he', l2=0.008,\n",
            "                                       n_hidden=50))]) 0.8842678545179812\n"
          ]
        }
      ],
      "source": [
        "# PRINT THE SCORES HERE\n",
        "print(best_classifier, best_score)"
      ]
    },
    {
      "cell_type": "markdown",
      "metadata": {
        "id": "w9gSkzvszU1K"
      },
      "source": [
        "# END"
      ]
    }
  ],
  "metadata": {
    "colab": {
      "provenance": []
    },
    "kernelspec": {
      "display_name": "Python 3",
      "name": "python3"
    },
    "language_info": {
      "codemirror_mode": {
        "name": "ipython",
        "version": 3
      },
      "file_extension": ".py",
      "mimetype": "text/x-python",
      "name": "python",
      "nbconvert_exporter": "python",
      "pygments_lexer": "ipython3",
      "version": "3.11.4"
    }
  },
  "nbformat": 4,
  "nbformat_minor": 0
}
